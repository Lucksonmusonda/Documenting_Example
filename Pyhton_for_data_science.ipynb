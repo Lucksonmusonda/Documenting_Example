{
  "nbformat": 4,
  "nbformat_minor": 0,
  "metadata": {
    "colab": {
      "provenance": [],
      "authorship_tag": "ABX9TyNLG1TWZGRLXBuNbkpfZlWX",
      "include_colab_link": true
    },
    "kernelspec": {
      "name": "python3",
      "display_name": "Python 3"
    },
    "language_info": {
      "name": "python"
    }
  },
  "cells": [
    {
      "cell_type": "markdown",
      "metadata": {
        "id": "view-in-github",
        "colab_type": "text"
      },
      "source": [
        "<a href=\"https://colab.research.google.com/github/Lucksonmusonda/Documenting_Example/blob/main/Pyhton_for_data_science.ipynb\" target=\"_parent\"><img src=\"https://colab.research.google.com/assets/colab-badge.svg\" alt=\"Open In Colab\"/></a>"
      ]
    },
    {
      "cell_type": "code",
      "execution_count": 1,
      "metadata": {
        "id": "2Z_LB0wYulkA"
      },
      "outputs": [],
      "source": [
        "x = 5"
      ]
    },
    {
      "cell_type": "code",
      "source": [
        "y = 4"
      ],
      "metadata": {
        "id": "FiGCW9twuoM2"
      },
      "execution_count": 2,
      "outputs": []
    },
    {
      "cell_type": "code",
      "source": [
        "z = x+y\n",
        "print(z)"
      ],
      "metadata": {
        "colab": {
          "base_uri": "https://localhost:8080/"
        },
        "id": "HA0afmgbuqYA",
        "outputId": "64263a84-d309-4a40-b193-fcdfd1753067"
      },
      "execution_count": 3,
      "outputs": [
        {
          "output_type": "stream",
          "name": "stdout",
          "text": [
            "9\n"
          ]
        }
      ]
    },
    {
      "cell_type": "code",
      "source": [],
      "metadata": {
        "id": "kVNS5gKOuukO"
      },
      "execution_count": null,
      "outputs": []
    },
    {
      "cell_type": "markdown",
      "source": [
        "# MULTIPLY"
      ],
      "metadata": {
        "id": "ZNxVV05ku85s"
      }
    },
    {
      "cell_type": "code",
      "source": [
        "c = x*y\n",
        "print(c)"
      ],
      "metadata": {
        "colab": {
          "base_uri": "https://localhost:8080/"
        },
        "id": "BmzXM6PMvAcZ",
        "outputId": "1d5e301a-c474-4628-d811-d5fbe60f757a"
      },
      "execution_count": 6,
      "outputs": [
        {
          "output_type": "stream",
          "name": "stdout",
          "text": [
            "20\n"
          ]
        }
      ]
    },
    {
      "cell_type": "code",
      "source": [],
      "metadata": {
        "id": "18IjZqb0vF87"
      },
      "execution_count": null,
      "outputs": []
    },
    {
      "cell_type": "markdown",
      "source": [
        "# trying"
      ],
      "metadata": {
        "id": "2U9PxX00wOHs"
      }
    },
    {
      "cell_type": "code",
      "source": [
        "2 > 3"
      ],
      "metadata": {
        "colab": {
          "base_uri": "https://localhost:8080/"
        },
        "id": "FU1ioFCOwQxV",
        "outputId": "3e99898c-aeb4-4a43-a638-fef1f91b9dc1"
      },
      "execution_count": 7,
      "outputs": [
        {
          "output_type": "execute_result",
          "data": {
            "text/plain": [
              "False"
            ]
          },
          "metadata": {},
          "execution_count": 7
        }
      ]
    },
    {
      "cell_type": "code",
      "source": [
        "2 == 4"
      ],
      "metadata": {
        "colab": {
          "base_uri": "https://localhost:8080/"
        },
        "id": "TgxqfGQR9FN1",
        "outputId": "566ce177-32c6-4dfd-fbf8-abd8a321b115"
      },
      "execution_count": 8,
      "outputs": [
        {
          "output_type": "execute_result",
          "data": {
            "text/plain": [
              "False"
            ]
          },
          "metadata": {},
          "execution_count": 8
        }
      ]
    },
    {
      "cell_type": "code",
      "source": [
        "2 == 3"
      ],
      "metadata": {
        "colab": {
          "base_uri": "https://localhost:8080/"
        },
        "id": "1oKQlBy19IQN",
        "outputId": "be2552a5-7c15-4417-9dc5-1e700271de4c"
      },
      "execution_count": 9,
      "outputs": [
        {
          "output_type": "execute_result",
          "data": {
            "text/plain": [
              "False"
            ]
          },
          "metadata": {},
          "execution_count": 9
        }
      ]
    },
    {
      "cell_type": "code",
      "source": [
        "# Original string\n",
        "text = 'Python Programming'\n",
        "\n",
        "# Convert to uppercase\n",
        "upper_text = text.upper()\n",
        "print(\"Uppercase:\", upper_text)  # Output: PYTHON PROGRAMMING\n",
        "\n",
        "# Convert to lowercase\n",
        "lower_text = text.lower()\n",
        "print(\"Lowercase:\", lower_text)  # Output: python programming\n"
      ],
      "metadata": {
        "colab": {
          "base_uri": "https://localhost:8080/"
        },
        "id": "fAjhXc3v9KoE",
        "outputId": "22819519-3f52-4a46-a07b-bbc7a4214c7e"
      },
      "execution_count": 12,
      "outputs": [
        {
          "output_type": "stream",
          "name": "stdout",
          "text": [
            "Uppercase: PYTHON PROGRAMMING\n",
            "Lowercase: python programming\n"
          ]
        }
      ]
    },
    {
      "cell_type": "code",
      "source": [
        "x = 36 / 4 * (3 + 2) * 4 + 2\n",
        "print(x)"
      ],
      "metadata": {
        "colab": {
          "base_uri": "https://localhost:8080/"
        },
        "id": "oZKSJo45-Ggo",
        "outputId": "ee4c7719-86f2-4687-ca5d-c6b5e7dfcd92"
      },
      "execution_count": 13,
      "outputs": [
        {
          "output_type": "stream",
          "name": "stdout",
          "text": [
            "182.0\n"
          ]
        }
      ]
    },
    {
      "cell_type": "code",
      "source": [
        "2*2**3"
      ],
      "metadata": {
        "colab": {
          "base_uri": "https://localhost:8080/"
        },
        "id": "JFgmIKZu_ITs",
        "outputId": "d1481b1b-427d-4182-de5b-9ce3f3f69a1f"
      },
      "execution_count": 14,
      "outputs": [
        {
          "output_type": "execute_result",
          "data": {
            "text/plain": [
              "16"
            ]
          },
          "metadata": {},
          "execution_count": 14
        }
      ]
    },
    {
      "cell_type": "code",
      "source": [
        "a = [\"London,\" \"mother,\" \"father\"]\n",
        "a"
      ],
      "metadata": {
        "colab": {
          "base_uri": "https://localhost:8080/"
        },
        "id": "-y2l2npV_bv2",
        "outputId": "47306922-972f-472d-cff7-96282509e0d0"
      },
      "execution_count": 19,
      "outputs": [
        {
          "output_type": "execute_result",
          "data": {
            "text/plain": [
              "['London,mother,father']"
            ]
          },
          "metadata": {},
          "execution_count": 19
        }
      ]
    },
    {
      "cell_type": "code",
      "source": [
        "items = [\"pen\",\"book\",\"walk\", \"cat\", \"dog\"]\n",
        "items[0]='cute'\n",
        "items[0]"
      ],
      "metadata": {
        "colab": {
          "base_uri": "https://localhost:8080/",
          "height": 36
        },
        "id": "SA7GUDmEE342",
        "outputId": "98cbd894-36e8-4e62-b281-f567b49ac1bb"
      },
      "execution_count": 9,
      "outputs": [
        {
          "output_type": "execute_result",
          "data": {
            "text/plain": [
              "'cute'"
            ],
            "application/vnd.google.colaboratory.intrinsic+json": {
              "type": "string"
            }
          },
          "metadata": {},
          "execution_count": 9
        }
      ]
    },
    {
      "cell_type": "code",
      "source": [
        "items = [\"pen\",\"book\",\"walk\", \"cat\", \"dog\"]\n",
        "items[0]='cute'\n",
        "print(items)"
      ],
      "metadata": {
        "colab": {
          "base_uri": "https://localhost:8080/"
        },
        "id": "sHKrJra56YWA",
        "outputId": "77434b0d-df76-44fc-da70-2e410241d52b"
      },
      "execution_count": 18,
      "outputs": [
        {
          "output_type": "stream",
          "name": "stdout",
          "text": [
            "['cute', 'book', 'walk', 'cat', 'dog']\n"
          ]
        }
      ]
    },
    {
      "cell_type": "code",
      "source": [
        "items = [\"pen\",\"book\",\"walk\", \"cat\", \"dog\"]\n",
        "items.append(\"butter\")\n",
        "items"
      ],
      "metadata": {
        "colab": {
          "base_uri": "https://localhost:8080/"
        },
        "id": "duTquTDe7WUS",
        "outputId": "edc4d9b6-edbb-4e47-fe30-a1ee0f9ec6b5"
      },
      "execution_count": 23,
      "outputs": [
        {
          "output_type": "execute_result",
          "data": {
            "text/plain": [
              "['pen', 'book', 'walk', 'cat', 'dog', 'butter']"
            ]
          },
          "metadata": {},
          "execution_count": 23
        }
      ]
    },
    {
      "cell_type": "code",
      "source": [
        "items = [\"pen\",\"book\",\"walk\", \"cat\", \"dog\"]\n",
        "items.insert(2,\"butter\")\n",
        "items"
      ],
      "metadata": {
        "colab": {
          "base_uri": "https://localhost:8080/"
        },
        "id": "iDosVPKz9CXz",
        "outputId": "c7b24978-23fb-4dd3-9750-37eaed40d8b9"
      },
      "execution_count": 25,
      "outputs": [
        {
          "output_type": "execute_result",
          "data": {
            "text/plain": [
              "['pen', 'book', 'butter', 'walk', 'cat', 'dog']"
            ]
          },
          "metadata": {},
          "execution_count": 25
        }
      ]
    },
    {
      "cell_type": "code",
      "source": [
        "food=[\"bread\", \"meat\", \"veggies\",\"fruites\"]\n",
        "bathroom=[\"shampoo\",\"soap\", \"towel\"]\n",
        "items = food+bathroom\n",
        "items"
      ],
      "metadata": {
        "colab": {
          "base_uri": "https://localhost:8080/"
        },
        "id": "mEXrVgmz9n2z",
        "outputId": "a52cb3c6-77dd-414e-a7af-cdf6c6ff2b16"
      },
      "execution_count": 28,
      "outputs": [
        {
          "output_type": "execute_result",
          "data": {
            "text/plain": [
              "['bread', 'meat', 'veggies', 'fruites', 'shampoo', 'soap', 'towel']"
            ]
          },
          "metadata": {},
          "execution_count": 28
        }
      ]
    },
    {
      "cell_type": "code",
      "source": [
        "items= [\"food\",\"soda\", \"drinks\", \"tomato\"]\n",
        "len(items)\n"
      ],
      "metadata": {
        "colab": {
          "base_uri": "https://localhost:8080/"
        },
        "id": "XOGnaf4c-bva",
        "outputId": "32e04ccb-f0e1-41fd-bf85-accded9cdd13"
      },
      "execution_count": 37,
      "outputs": [
        {
          "output_type": "execute_result",
          "data": {
            "text/plain": [
              "4"
            ]
          },
          "metadata": {},
          "execution_count": 37
        }
      ]
    },
    {
      "cell_type": "code",
      "source": [
        "bedroom = ['bed', 'shoes', 'bed', 'mat', 'mirror', 'bed']\n",
        "numBed = bedroom.count(\"bed\")\n",
        "numBed"
      ],
      "metadata": {
        "colab": {
          "base_uri": "https://localhost:8080/"
        },
        "id": "jiI_LQQw_qAe",
        "outputId": "db6cd3bc-cd4a-4d79-c1c8-62d4b227a8be"
      },
      "execution_count": 40,
      "outputs": [
        {
          "output_type": "execute_result",
          "data": {
            "text/plain": [
              "3"
            ]
          },
          "metadata": {},
          "execution_count": 40
        }
      ]
    },
    {
      "cell_type": "code",
      "source": [
        "aTuple = \"yellow\", \"20\", \"red\"\n",
        "a, b, c = aTuple\n",
        "print(a)"
      ],
      "metadata": {
        "colab": {
          "base_uri": "https://localhost:8080/"
        },
        "id": "wZ7PnZ71A5Sx",
        "outputId": "a120f3af-f315-461a-b8b4-e87051e3705d"
      },
      "execution_count": 41,
      "outputs": [
        {
          "output_type": "stream",
          "name": "stdout",
          "text": [
            "yellow\n"
          ]
        }
      ]
    },
    {
      "cell_type": "code",
      "source": [
        "aList = [10, 20, 30, 40, 50, 60, 70, 80]\n",
        "print(aList[2:5])\n",
        "print(aList[:4])\n",
        "print(aList[3:])"
      ],
      "metadata": {
        "colab": {
          "base_uri": "https://localhost:8080/"
        },
        "id": "foYl4Aq4DG4o",
        "outputId": "7b45cc44-b3a5-40c6-e49a-b6f6a06e43c3"
      },
      "execution_count": 42,
      "outputs": [
        {
          "output_type": "stream",
          "name": "stdout",
          "text": [
            "[30, 40, 50]\n",
            "[10, 20, 30, 40]\n",
            "[40, 50, 60, 70, 80]\n"
          ]
        }
      ]
    },
    {
      "cell_type": "code",
      "source": [
        "lst = [3,4,6,1,2]\n",
        "lst[1:2] = [7,8]\n",
        "print(lst)"
      ],
      "metadata": {
        "colab": {
          "base_uri": "https://localhost:8080/"
        },
        "id": "gSKNpbzjDlum",
        "outputId": "a8aeaee1-0ab7-44dc-fc5a-88c1eb4bfeb8"
      },
      "execution_count": 43,
      "outputs": [
        {
          "output_type": "stream",
          "name": "stdout",
          "text": [
            "[3, 7, 8, 6, 1, 2]\n"
          ]
        }
      ]
    },
    {
      "cell_type": "code",
      "source": [
        "a = [\"book\", \"pen\", \"pencil\", \"phone\", \"website\", \"game\"]\n",
        "print(a[0])\n",
        "print(a[1])\n",
        "print(a[2])\n",
        "print(a[3])"
      ],
      "metadata": {
        "colab": {
          "base_uri": "https://localhost:8080/"
        },
        "id": "So49pA9EDysI",
        "outputId": "a3429572-55d6-4d17-e4bf-fdfd893417ce"
      },
      "execution_count": 44,
      "outputs": [
        {
          "output_type": "stream",
          "name": "stdout",
          "text": [
            "book\n",
            "pen\n",
            "pencil\n",
            "phone\n"
          ]
        }
      ]
    },
    {
      "cell_type": "code",
      "source": [
        "a = [\"june\", \"march\", \"april\", \"june\"]\n",
        "for element in a:\n",
        "    print(element)"
      ],
      "metadata": {
        "colab": {
          "base_uri": "https://localhost:8080/"
        },
        "id": "nZtGfAG4FfIQ",
        "outputId": "dd3ecb13-617c-47aa-b3f9-ff9574c9bd73"
      },
      "execution_count": 52,
      "outputs": [
        {
          "output_type": "stream",
          "name": "stdout",
          "text": [
            "june\n",
            "march\n",
            "april\n",
            "june\n"
          ]
        }
      ]
    },
    {
      "cell_type": "code",
      "source": [
        "b = [6, 4, 3]\n",
        "total = 0\n",
        "for e in b:\n",
        "    total = total + e\n",
        "print(total)"
      ],
      "metadata": {
        "colab": {
          "base_uri": "https://localhost:8080/"
        },
        "id": "NCJQeKB6GJXH",
        "outputId": "5f1c84d0-563d-42ee-de60-79b60a881f4b"
      },
      "execution_count": 58,
      "outputs": [
        {
          "output_type": "stream",
          "name": "stdout",
          "text": [
            "13\n"
          ]
        }
      ]
    },
    {
      "cell_type": "code",
      "source": [
        "c = list(range(1,10))\n",
        "print(c)"
      ],
      "metadata": {
        "colab": {
          "base_uri": "https://localhost:8080/"
        },
        "id": "4LZFnNLkIihG",
        "outputId": "41d72323-90ac-4b89-b74b-fd7f1bc32f4b"
      },
      "execution_count": 60,
      "outputs": [
        {
          "output_type": "stream",
          "name": "stdout",
          "text": [
            "[1, 2, 3, 4, 5, 6, 7, 8, 9]\n"
          ]
        }
      ]
    },
    {
      "cell_type": "code",
      "source": [
        "total2 = 0\n",
        "for i in range(1,10):\n",
        "    total2 += i\n",
        "print(total2)"
      ],
      "metadata": {
        "colab": {
          "base_uri": "https://localhost:8080/"
        },
        "id": "fKxEnaXNVgOP",
        "outputId": "c983eeb7-307e-4584-d5e6-f720987fe494"
      },
      "execution_count": 69,
      "outputs": [
        {
          "output_type": "stream",
          "name": "stdout",
          "text": [
            "45\n"
          ]
        }
      ]
    },
    {
      "cell_type": "code",
      "source": [
        "for num in range(2,-5,-1):\n",
        "\n",
        "  print(num, end = \",\")"
      ],
      "metadata": {
        "colab": {
          "base_uri": "https://localhost:8080/"
        },
        "id": "jyhIjv0HV1Yt",
        "outputId": "1fd2965b-b126-4f24-e475-41cb88f065fb"
      },
      "execution_count": 70,
      "outputs": [
        {
          "output_type": "stream",
          "name": "stdout",
          "text": [
            "2,1,0,-1,-2,-3,-4,"
          ]
        }
      ]
    },
    {
      "cell_type": "code",
      "source": [
        "numbers = [10, 20]\n",
        "items = [\"Chair\", \"Table\"]\n",
        "for x in numbers:\n",
        "    for y in items:\n",
        "        print(x, y)"
      ],
      "metadata": {
        "colab": {
          "base_uri": "https://localhost:8080/"
        },
        "id": "hMmsO1XUYjF0",
        "outputId": "9be5b370-7e34-4332-af02-ced6893c06b1"
      },
      "execution_count": 71,
      "outputs": [
        {
          "output_type": "stream",
          "name": "stdout",
          "text": [
            "10 Chair\n",
            "10 Table\n",
            "20 Chair\n",
            "20 Table\n"
          ]
        }
      ]
    },
    {
      "cell_type": "code",
      "source": [
        "for k in [0, 1, 2, 3, 4, 5]:\n",
        "    print(k)"
      ],
      "metadata": {
        "colab": {
          "base_uri": "https://localhost:8080/"
        },
        "id": "B8cRfVIkY0y9",
        "outputId": "5f49f263-98ae-41a4-9103-42e3a4e23bea"
      },
      "execution_count": 75,
      "outputs": [
        {
          "output_type": "stream",
          "name": "stdout",
          "text": [
            "0\n",
            "1\n",
            "2\n",
            "3\n",
            "4\n",
            "5\n"
          ]
        }
      ]
    },
    {
      "cell_type": "code",
      "source": [
        "for i in range(0, 5, 1):\n",
        "      print(i)"
      ],
      "metadata": {
        "colab": {
          "base_uri": "https://localhost:8080/"
        },
        "id": "ZDRyBki0ZSlZ",
        "outputId": "b2b84a33-3ea2-4336-e536-1a785a2d93e7"
      },
      "execution_count": 76,
      "outputs": [
        {
          "output_type": "stream",
          "name": "stdout",
          "text": [
            "0\n",
            "1\n",
            "2\n",
            "3\n",
            "4\n"
          ]
        }
      ]
    },
    {
      "cell_type": "code",
      "source": [
        "for i in range (0,5):\n",
        "      print(i)"
      ],
      "metadata": {
        "colab": {
          "base_uri": "https://localhost:8080/"
        },
        "id": "2JPUDoujZkCs",
        "outputId": "f2f5c659-38a2-4c84-daf1-a0abd0f1ef8d"
      },
      "execution_count": 78,
      "outputs": [
        {
          "output_type": "stream",
          "name": "stdout",
          "text": [
            "0\n",
            "1\n",
            "2\n",
            "3\n",
            "4\n"
          ]
        }
      ]
    },
    {
      "cell_type": "code",
      "source": [
        "i=0\n",
        "while(i<3):\n",
        "    print(\"hi\");\n",
        "    i+=1"
      ],
      "metadata": {
        "colab": {
          "base_uri": "https://localhost:8080/"
        },
        "id": "XcjzX7wHZunD",
        "outputId": "6e4f9a60-9330-4104-abbc-7ba3bc90d277"
      },
      "execution_count": 81,
      "outputs": [
        {
          "output_type": "stream",
          "name": "stdout",
          "text": [
            "hi\n",
            "hi\n",
            "hi\n"
          ]
        }
      ]
    },
    {
      "cell_type": "code",
      "source": [
        "if i in range(5, 0, -2):\n",
        "    print(i)"
      ],
      "metadata": {
        "colab": {
          "base_uri": "https://localhost:8080/"
        },
        "id": "5cupbuMqaCuY",
        "outputId": "da777d4c-b792-4a53-bf62-8b0d127508bf"
      },
      "execution_count": 83,
      "outputs": [
        {
          "output_type": "stream",
          "name": "stdout",
          "text": [
            "3\n"
          ]
        }
      ]
    },
    {
      "cell_type": "code",
      "source": [
        "x = ['ab', 'cd']\n",
        "for i in x:\n",
        "    i.upper()\n",
        "print(x)"
      ],
      "metadata": {
        "colab": {
          "base_uri": "https://localhost:8080/"
        },
        "id": "FgUitk7iaUN3",
        "outputId": "563abf4a-3381-44ac-ea8a-9cd0107cd125"
      },
      "execution_count": 88,
      "outputs": [
        {
          "output_type": "stream",
          "name": "stdout",
          "text": [
            "['ab', 'cd']\n"
          ]
        }
      ]
    },
    {
      "cell_type": "code",
      "source": [
        "x = 'abcd'\n",
        "for i in x:\n",
        "      print(i.upper())"
      ],
      "metadata": {
        "colab": {
          "base_uri": "https://localhost:8080/"
        },
        "id": "zFDVsUNeanz-",
        "outputId": "c849d767-efba-4d29-e783-3b87506ec31b"
      },
      "execution_count": 89,
      "outputs": [
        {
          "output_type": "stream",
          "name": "stdout",
          "text": [
            "A\n",
            "B\n",
            "C\n",
            "D\n"
          ]
        }
      ]
    },
    {
      "cell_type": "code",
      "source": [
        "i = [0,9]\n",
        "if i in range(0,9):\n",
        "     print(i)"
      ],
      "metadata": {
        "id": "VkwjtLela-Dw"
      },
      "execution_count": 95,
      "outputs": []
    },
    {
      "cell_type": "code",
      "source": [
        "x = 0\n",
        "while (x < 100):\n",
        "   x+=2\n",
        "print(x)"
      ],
      "metadata": {
        "colab": {
          "base_uri": "https://localhost:8080/"
        },
        "id": "Iy5fGArybM3t",
        "outputId": "b3fd786f-4aa2-4476-fa13-a7ee2c05c907"
      },
      "execution_count": 96,
      "outputs": [
        {
          "output_type": "stream",
          "name": "stdout",
          "text": [
            "100\n"
          ]
        }
      ]
    },
    {
      "cell_type": "code",
      "source": [],
      "metadata": {
        "id": "76GvAXkWb2ww"
      },
      "execution_count": null,
      "outputs": []
    }
  ]
}